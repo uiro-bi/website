{
  "cells": [
    {
      "cell_type": "raw",
      "metadata": {},
      "source": [
        "---\n",
        "title: \"Consultoria em Inteligência de Mercado para Bioeconomia\"\n",
        "format: html\n",
        "css: styles.css\n",
        "---"
      ],
      "id": "93e04b6d"
    },
    {
      "cell_type": "markdown",
      "metadata": {},
      "source": [
        "# Bem-vindo à [Nome da Startup]\n",
        "\n",
        "Nosso objetivo é ajudar empresas da bioeconomia a tomar decisões estratégicas com base em dados e insights de mercado.\n",
        "\n",
        ":::{.callout-note}\n",
        "**Destaques dos nossos serviços**:\n",
        "- Análise de mercado\n",
        "- Inteligência competitiva\n",
        "- Previsão de tendências\n",
        ":::\n",
        "\n",
        "## Nossos Serviços\n",
        "\n",
        "### Análise de Mercado\n",
        "Identificamos oportunidades e desafios no setor da bioeconomia para impulsionar seus negócios.\n",
        "\n",
        "### Inteligência Competitiva\n",
        "Monitoramos seus concorrentes e o ambiente de mercado, ajudando você a se posicionar estrategicamente.\n",
        "\n",
        "### Previsão de Tendências\n",
        "Utilizamos técnicas avançadas de análise de dados para prever as próximas tendências do mercado.\n",
        "\n",
        "## Entre em Contato\n",
        "[Envie-nos uma mensagem](#contato) para saber mais sobre como podemos ajudar sua empresa.\n",
        "\n",
        "```{html}\n",
        "<div class=\"cta-button\">\n",
        "  <a href=\"mailto:contato@startup.com\">Fale conosco</a>\n",
        "</div>"
      ],
      "id": "bdf83d16"
    }
  ],
  "metadata": {
    "kernelspec": {
      "name": "python3",
      "language": "python",
      "display_name": "Python 3 (ipykernel)"
    }
  },
  "nbformat": 4,
  "nbformat_minor": 5
}